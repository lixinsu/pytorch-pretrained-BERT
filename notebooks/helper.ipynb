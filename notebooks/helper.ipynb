{
 "cells": [
  {
   "cell_type": "code",
   "execution_count": 2,
   "metadata": {},
   "outputs": [],
   "source": [
    "# 检查模型存储过程是否正确\n",
    "import torch\n",
    "data = torch.load('../data/models/squadv1.1_b8_truncated_trainprobe/pytorch_model.bin')\n"
   ]
  },
  {
   "cell_type": "markdown",
   "metadata": {},
   "source": [
    "---"
   ]
  },
  {
   "cell_type": "code",
   "execution_count": 7,
   "metadata": {},
   "outputs": [],
   "source": [
    "# 切分训练数据，其中一部分用来训练inspector model\n",
    "import json\n",
    "data = json.load(open('../data/datasets/squad/train-v1.1.json'))['data']\n",
    "\n",
    "json.dump({'data':data[:300]}, open('../data/datasets/squad/train-v1.1-rc.json', 'w'))\n",
    "json.dump({'data':data[300:]}, open('../data/datasets/squad/train-v1.1-Q.json', 'w'))"
   ]
  },
  {
   "cell_type": "markdown",
   "metadata": {},
   "source": [
    "---"
   ]
  },
  {
   "cell_type": "code",
   "execution_count": 16,
   "metadata": {},
   "outputs": [
    {
     "name": "stdout",
     "output_type": "stream",
     "text": [
      "1.0\n"
     ]
    }
   ],
   "source": [
    "# 比较两份预测结果一致性\n",
    "import json\n",
    "a = json.load(open('../a.tmp'))\n",
    "b = json.load(open('../b.tmp'))\n",
    "def r_eq(a,b):\n",
    "    pa, pb = [], []\n",
    "    for qid in a:\n",
    "        if a[qid]['em']:\n",
    "            pa.append(qid)\n",
    "        if b[qid]['em']:\n",
    "            pb.append(qid)\n",
    "    print(len( set(pa) & set(pb) ) / len(pa))\n",
    "r_eq(a, b)"
   ]
  },
  {
   "cell_type": "markdown",
   "metadata": {},
   "source": [
    "---"
   ]
  },
  {
   "cell_type": "code",
   "execution_count": null,
   "metadata": {},
   "outputs": [],
   "source": [
    "#测试不同量的训练数据对于预测效果的影响\n"
   ]
  }
 ],
 "metadata": {
  "kernelspec": {
   "display_name": "Python 3",
   "language": "python",
   "name": "python3"
  },
  "language_info": {
   "codemirror_mode": {
    "name": "ipython",
    "version": 3
   },
   "file_extension": ".py",
   "mimetype": "text/x-python",
   "name": "python",
   "nbconvert_exporter": "python",
   "pygments_lexer": "ipython3",
   "version": "3.6.2"
  }
 },
 "nbformat": 4,
 "nbformat_minor": 2
}
